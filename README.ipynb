{
 "cells": [
  {
   "cell_type": "markdown",
   "id": "3989dba3",
   "metadata": {},
   "source": [
    "<h1><img align=\"right\" width=\"350\" src=\"img/ATU-Logo-Full-RGB-Green.jpg\"> Assessments for Programming and Scripting \n",
    "</h1>\n",
    "<p> \n",
    "Course: HDip in Computing in Data Analytics <br>\n",
    "Module: Programming and Scripting <br>\n",
    "Lecturer: Andrew Beatty\n",
    "    \n",
    "Student: Eilis Donohue (G00006088)\n",
    "\n",
    "A repository for the solutions to the problem sheets given in the Programming and Scripting Module of the HDip in Data Analytics beginning January 2023.\n",
    "\n",
    "Software Used: \n",
    " - Python v3.7 and higher  \n",
    " - Jupyter Notebook 6.4.12 \n",
    "</p>\n",
    "\n",
    " - - -"
   ]
  },
  {
   "cell_type": "markdown",
   "id": "9ef2eef0",
   "metadata": {},
   "source": [
    "## Table of Contents: <a id=\"toc\"></a> \n",
    "1. [Task 1 (helloworld.py)](#task1)\n",
    "2. [Task 2 (bank.py)](#task2)\n",
    "3. [Task 3 (accounts.py)](#task3)\n",
    "4. [Task 4 (collatz.py)](#task4)\n",
    "5. [Task 5 (weekday.py)](#task5)\n",
    "5. [Task 6 (squareroot.py)](#task6)\n",
    "5. [Task 7 (es.py)](#task7)\n",
    "6. [Task 8 (XXXX)](#task8)"
   ]
  },
  {
   "cell_type": "markdown",
   "id": "a67a0a7e",
   "metadata": {},
   "source": [
    " - - -\n",
    "\n",
    "## Task 1 (helloworld.py) <a id=\"task1\"></a> <span style=\"font-size: 8pt;\"> [[TOC]](#toc)</span>\n",
    "\n",
    "Task Description:\n",
    "\n",
    "<i> This file should contain a python program that displays Hello World! when it is run. </i>\n",
    "\n",
    "Program Description:\n",
    " - Print statement to print **Hello World!**"
   ]
  },
  {
   "cell_type": "code",
   "execution_count": 11,
   "id": "926f4300",
   "metadata": {},
   "outputs": [
    {
     "name": "stdout",
     "output_type": "stream",
     "text": [
      "Hello World!\n"
     ]
    }
   ],
   "source": [
    "print(\"Hello World!\")"
   ]
  },
  {
   "cell_type": "markdown",
   "id": "1c034464",
   "metadata": {},
   "source": [
    "- - - \n",
    "\n",
    "## Task 2 (bank.py) <a id=\"task2\"></a> <span style=\"font-size: 8pt;\"> [[TOC]](#toc)</span>\n",
    "\n",
    "\n",
    "**Task Description:**\n",
    "\n",
    "<i>\n",
    "Prompt the user and read in two money amounts (in cent)\n",
    "Add the two amounts\n",
    "Print out the answer in a human readable format with a euro sign and decimal point between the euro and cent of the amount. </i>\n",
    "\n",
    "```\n",
    "$ python bank.py\n",
    "Enter amount1(in cent): 65\n",
    "Enter amount2(in cent): 180\n",
    "The sum of these is €2.45\n",
    "```\n"
   ]
  },
  {
   "cell_type": "markdown",
   "id": "e58cb7d1",
   "metadata": {},
   "source": [
    "**Program Implementation:**"
   ]
  },
  {
   "cell_type": "code",
   "execution_count": 12,
   "id": "f58ebae0",
   "metadata": {},
   "outputs": [
    {
     "name": "stdout",
     "output_type": "stream",
     "text": [
      "Enter amount1(in cent): 1\n",
      "Enter amount2(in cent): 1\n"
     ]
    }
   ],
   "source": [
    "#Prompt the user for 2 inputs and store these as integers\n",
    "input1 = int(input(\"Enter amount1(in cent): \"))\n",
    "input2 = int(input(\"Enter amount2(in cent): \"))"
   ]
  },
  {
   "cell_type": "code",
   "execution_count": 13,
   "id": "14c4ca46",
   "metadata": {},
   "outputs": [],
   "source": [
    "# Add the 2 inputs \n",
    "total_cent = input1 + input2\n",
    "\n",
    "# Assign the total as a string.\n",
    "# This avoids introducing float types later and will allow string formatting to get the desired output format.\n",
    "# The last 2 characters will be the cent amount and everything before that is the euro amount.\n",
    "total_cent = str(total_cent)"
   ]
  },
  {
   "cell_type": "code",
   "execution_count": 14,
   "id": "96af805a",
   "metadata": {},
   "outputs": [],
   "source": [
    "# However, if the total_cent amount is 10c or less, then leading zeroes are required to pad out the total amount string.\n",
    "# Assign these by checking the length of total cent. \n",
    "# If total_cent is 3 characters or less (<10c) then leading zeroes are added to the start of total_cent. \n",
    "leading_zeroes = \"0\" * (3 - len(total_cent))\n",
    "total_cent = leading_zeroes + total_cent    "
   ]
  },
  {
   "cell_type": "markdown",
   "id": "149d48d9",
   "metadata": {},
   "source": [
    "- The string slices are applied (the last two digits being cents) [[Ref 1]](#ref2.1)\n",
    "- Everything up to the last 2 digits is euro.\n",
    "- The amount is outputted to screen in the required format."
   ]
  },
  {
   "cell_type": "code",
   "execution_count": 15,
   "id": "bf44f9d2",
   "metadata": {},
   "outputs": [
    {
     "name": "stdout",
     "output_type": "stream",
     "text": [
      "The sum of these is €0.02\n"
     ]
    }
   ],
   "source": [
    "# The string slice can then be applied to separate the euro and cent amounts.\n",
    "cent_amount = total_cent[-2:]\n",
    "euro_amount = total_cent[:-2]\n",
    "print(f\"The sum of these is €{euro_amount}.{cent_amount}\")"
   ]
  },
  {
   "cell_type": "markdown",
   "id": "830c2ffe",
   "metadata": {},
   "source": [
    "**References:**\n",
    "1. String formatting https://www.w3schools.com/python/python_string_formatting.asp <a id=\"ref2.1\"></a> "
   ]
  },
  {
   "cell_type": "markdown",
   "id": "c7a31a91",
   "metadata": {},
   "source": [
    "- - - \n",
    "\n",
    "## Task 3 (accounts.py) <a id=\"task3\"></a> <span style=\"font-size: 8pt;\"> [[TOC]](#toc)</span>\n",
    "\n",
    "\n",
    "**Task Description:**\n",
    "\n",
    "<i>Bank account numbers can stored as 10 character strings, for security reasons some applications only display the last 4 characters (with the other other characters replaced with Xs).</i>\n",
    "\n",
    "```\n",
    "$ python accounts.py\n",
    "Please enter an 10 digit account number: 1234567890\n",
    "XXXXXX7890\n",
    "```"
   ]
  },
  {
   "cell_type": "markdown",
   "id": "c3e2d089",
   "metadata": {},
   "source": [
    "**Program Implementation:**"
   ]
  },
  {
   "cell_type": "code",
   "execution_count": 16,
   "id": "7f1023fb",
   "metadata": {},
   "outputs": [
    {
     "name": "stdout",
     "output_type": "stream",
     "text": [
      "Please enter a 10 digit account number: 1234567890\n"
     ]
    }
   ],
   "source": [
    "# Prompt the user for a 10 digit account number. This input is stored as a string variable\n",
    "user_input = input(\"Please enter a 10 digit account number: \")\n",
    "\n",
    "# Strip any whitespace from the start and the end of the string input.\n",
    "user_input = user_input.strip()"
   ]
  },
  {
   "cell_type": "code",
   "execution_count": 17,
   "id": "2d5ecf75",
   "metadata": {},
   "outputs": [],
   "source": [
    "# Find the length of the user inputted value\n",
    "input_string_length = len(user_input)\n",
    "\n",
    "# Isolate the last 4 characters of the inputted string with a string slice\n",
    "end_chars = user_input[-4:]"
   ]
  },
  {
   "cell_type": "code",
   "execution_count": 18,
   "id": "cfc65f56",
   "metadata": {},
   "outputs": [
    {
     "name": "stdout",
     "output_type": "stream",
     "text": [
      "XXXXXX7890\n"
     ]
    }
   ],
   "source": [
    "# The outputted string consists of the last four digits right justified with the number_\n",
    "# padded with X with the overall length specified by length of user inputted string.\n",
    "output_string = end_chars.rjust(input_string_length, 'X')\n",
    "\n",
    "# Print the resulting output string to screen\n",
    "print(output_string)"
   ]
  },
  {
   "cell_type": "markdown",
   "id": "ec57394d",
   "metadata": {},
   "source": [
    "**Program Notes:**\n",
    "\n",
    "- The last four digits are right-justified and padded out before the last 4 digits by using .rjust() method [[Ref 1]](#ref3.1)\n",
    "- No error checking is performed for non-digit characters in the input. \n",
    "- Any inputted number less than 4 digits will display just those digits inputted."
   ]
  },
  {
   "cell_type": "markdown",
   "id": "f510e20b",
   "metadata": {},
   "source": [
    "**References:**\n",
    "1. Padding a string: https://www.w3schools.com/python/ref_string_rjust.asp <a id=\"ref3.1\"></a> "
   ]
  },
  {
   "cell_type": "markdown",
   "id": "f7b952bd",
   "metadata": {},
   "source": [
    "- - - \n",
    "\n",
    "## Task 4 (collatz.py) <a id=\"task4\"></a> <span style=\"font-size: 8pt;\"> [[TOC]](#toc)</span>\n",
    "\n",
    "\n",
    "**Task Description:**\n",
    "\n",
    "<i>\n",
    " Write a program, called collatz.py, that asks the user to input any positive integer and outputs the successive values of the following calculation.\n",
    "\n",
    "At each step calculate the next value by taking the current value and, if it is even, divide it by two, but if it is odd, multiply it by three and add one.\n",
    "\n",
    "Have the program end if the current value is one.\n",
    "\n",
    "Push the program in your pands-problem-sheet GitHub repository (like you do for all the weekly tasks).\n",
    "\n",
    "Example of it running: </i> \n",
    "\n",
    "```\n",
    "$ python collatz.py\n",
    "\n",
    "Please enter a positive integer: 10\n",
    "\n",
    "10 5 16 8 4 2 1\n",
    "```"
   ]
  },
  {
   "cell_type": "markdown",
   "id": "6efa8f8c",
   "metadata": {},
   "source": [
    "**Program Implementation:**"
   ]
  },
  {
   "cell_type": "code",
   "execution_count": 25,
   "id": "ad454830",
   "metadata": {},
   "outputs": [
    {
     "name": "stdout",
     "output_type": "stream",
     "text": [
      "Please enter a positive integer: 123\n"
     ]
    }
   ],
   "source": [
    "# Define the variable user_list as the list for the calculated values\n",
    "user_list = []\n",
    "\n",
    "# Initialise the user_inp so that the loop to ask for user input will run\n",
    "user_inp = -1\n",
    "\n",
    "# Execute this loop until the user inputs a positive int\n",
    "while user_inp <= 0:\n",
    "    user_inp = int(input(\"Please enter a positive integer: \"))\n",
    "\n",
    "# Store the user input in the defined list\n",
    "user_list.append(user_inp)"
   ]
  },
  {
   "cell_type": "code",
   "execution_count": 26,
   "id": "72fb286f",
   "metadata": {},
   "outputs": [],
   "source": [
    "# This loop applies the Collatz rules [1] - it will loop while the calculated number is not equal to 1\n",
    "while user_inp != 1:\n",
    "    # Checks if the number is positive or negative and apply appropriate collatz \n",
    "    if user_inp % 2 == 0:\n",
    "        user_inp = int(user_inp / 2)\n",
    "    else:\n",
    "        user_inp = int((user_inp * 3) + 1)\n",
    "    # Appends the calculated value to the list    \n",
    "    user_list.append(user_inp)"
   ]
  },
  {
   "cell_type": "code",
   "execution_count": 29,
   "id": "be6b7ec0",
   "metadata": {},
   "outputs": [
    {
     "name": "stdout",
     "output_type": "stream",
     "text": [
      "123 370 185 556 278 139 418 209 628 314 157 472 236 118 59 178 89 268 134 67 202 101 304 152 76 38 19 58 29 88 44 22 11 34 17 52 26 13 40 20 10 5 16 8 4 2 1 \n"
     ]
    }
   ],
   "source": [
    "# Print out the calculated values in the list in the required format on the same line \n",
    "# by looping over the values in the list. \n",
    "for item in user_list:\n",
    "    # The seperator for each instance of print is a space rather than the default newline [2]\n",
    "    print(item, end=\" \")\n",
    "\n",
    "# Print statement to go to next line after printing the last value\n",
    "print()"
   ]
  },
  {
   "cell_type": "markdown",
   "id": "cc53fbca",
   "metadata": {},
   "source": [
    "**Program Notes:**\n",
    "- The program applies the Collatz conjecture on any positive integer [[Ref 1]](#ref4.1)\n",
    "- The program will throw an error if a float type is entered. \n",
    "- If a negative value is entered, the input message will repeat."
   ]
  },
  {
   "cell_type": "markdown",
   "id": "190dfdbe",
   "metadata": {},
   "source": [
    "**References:**\n",
    "1. The Collatz Conjecture https://www.youtube.com/watch?v=094y1Z2wpJg&t=1\n",
    "2. Print on same line https://w3cschoool.com/tutorial/how-to-print-in-same-line-in-python"
   ]
  },
  {
   "cell_type": "markdown",
   "id": "a3cdfcdd",
   "metadata": {},
   "source": [
    "- - - \n",
    "\n",
    "## Task 5 (weekday.py) <a id=\"task5\"></a> <span style=\"font-size: 8pt;\"> [[TOC]](#toc)</span>\n",
    "\n",
    "\n",
    "**Task Description:**\n",
    "\n",
    "<i>\n",
    "Write a program that outputs whether or not today is a weekday. (The program should be called weekday.py)\n",
    "\n",
    "(You will need to search the web to find how you work out what day it is)\n",
    "\n",
    "An example of running this program on a Thursday is given below.</i> \n",
    "\n",
    "```\n",
    "$ python weekday.py\n",
    "Yes, unfortunately today is a weekday.\n",
    "\n",
    "\n",
    "An example of running it on a Saturday is as follows:\n",
    "\n",
    "$ python weekday.py\n",
    "It is the weekend, yay!\n",
    "\n",
    "```"
   ]
  },
  {
   "cell_type": "markdown",
   "id": "174e2298",
   "metadata": {},
   "source": [
    "**Program Implementation:**"
   ]
  },
  {
   "cell_type": "code",
   "execution_count": 35,
   "id": "a4e7062a",
   "metadata": {},
   "outputs": [],
   "source": [
    "# Import the datetime class from the datetime module [1]\n",
    "from datetime import datetime\n",
    "\n",
    "# Assign the current date and time to dt\n",
    "dt = datetime.now()"
   ]
  },
  {
   "cell_type": "code",
   "execution_count": 36,
   "id": "ec4daa59",
   "metadata": {},
   "outputs": [],
   "source": [
    "# Use the weekday method to find day of week - returns an integer [1]\n",
    "x = dt.weekday()"
   ]
  },
  {
   "cell_type": "code",
   "execution_count": 38,
   "id": "0926194b",
   "metadata": {},
   "outputs": [
    {
     "name": "stdout",
     "output_type": "stream",
     "text": [
      "It is the weekend, yay!\n"
     ]
    }
   ],
   "source": [
    "# checks value of x - prints accordingly (Monday is 0 etc)\n",
    "if x == 5 or x == 6:\n",
    "    print(\"It is the weekend, yay!\")\n",
    "else:\n",
    "    print(\"Yes, unfortunately today is a weekday.\")"
   ]
  },
  {
   "cell_type": "markdown",
   "id": "97dd442c",
   "metadata": {},
   "source": [
    "**References:**\n",
    "1. Find day of the week: https://pynative.com/python-get-the-day-of-week"
   ]
  }
 ],
 "metadata": {
  "kernelspec": {
   "display_name": "Python 3 (ipykernel)",
   "language": "python",
   "name": "python3"
  },
  "language_info": {
   "codemirror_mode": {
    "name": "ipython",
    "version": 3
   },
   "file_extension": ".py",
   "mimetype": "text/x-python",
   "name": "python",
   "nbconvert_exporter": "python",
   "pygments_lexer": "ipython3",
   "version": "3.9.12"
  }
 },
 "nbformat": 4,
 "nbformat_minor": 5
}
