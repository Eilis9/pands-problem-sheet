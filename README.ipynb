{
 "cells": [
  {
   "cell_type": "markdown",
   "id": "3989dba3",
   "metadata": {},
   "source": [
    "<h1><img align=\"right\" width=\"350\" src=\"img/ATU-Logo-Full-RGB-Green.jpg\"> Assessments for Programming and Scripting \n",
    "</h1>\n",
    "<p> \n",
    "Course: HDip in Computing in Data Analytics <br>\n",
    "Module: Programming and Scripting <br>\n",
    "Lecturer: Andrew Beatty\n",
    "    \n",
    "Student: Eilis Donohue (G00006088)\n",
    "\n",
    "A repository for the solutions to the problem sheets given in the Programming and Scripting Module of the HDip in Data Analytics beginning January 2023. All programs except for es.py may be run in this Jupyter Notebook.\n",
    "\n",
    "Software Used: \n",
    " - Python v3.7 and higher  \n",
    " - Jupyter Notebook 6.4.12 \n",
    "</p>\n",
    "\n",
    " - - -"
   ]
  },
  {
   "cell_type": "markdown",
   "id": "9ef2eef0",
   "metadata": {},
   "source": [
    "## Table of Contents: <a id=\"toc\"></a> \n",
    "1. [Task 1 (helloworld.py)](#task1)\n",
    "2. [Task 2 (bank.py)](#task2)\n",
    "3. [Task 3 (accounts.py)](#task3)\n",
    "4. [Task 4 (collatz.py)](#task4)\n",
    "5. [Task 5 (weekday.py)](#task5)\n",
    "5. [Task 6 (squareroot.py)](#task6)\n",
    "5. [Task 7 (es.py)](#task7)\n",
    "6. [Task 8 (plottask.py)](#task8)"
   ]
  },
  {
   "cell_type": "markdown",
   "id": "a67a0a7e",
   "metadata": {},
   "source": [
    " - - -\n",
    "\n",
    "## Task 1 (helloworld.py) <a id=\"task1\"></a> <span style=\"font-size: 8pt;\"> [[TOC]](#toc)</span>\n",
    "\n",
    "Task Description:\n",
    "\n",
    "<i> This file should contain a python program that displays Hello World! when it is run. </i>\n",
    "\n",
    "Program Description:\n",
    " - Print statement to print **Hello World!**"
   ]
  },
  {
   "cell_type": "code",
   "execution_count": 11,
   "id": "926f4300",
   "metadata": {},
   "outputs": [
    {
     "name": "stdout",
     "output_type": "stream",
     "text": [
      "Hello World!\n"
     ]
    }
   ],
   "source": [
    "print(\"Hello World!\")"
   ]
  },
  {
   "cell_type": "markdown",
   "id": "1c034464",
   "metadata": {},
   "source": [
    "- - - \n",
    "\n",
    "## Task 2 (bank.py) <a id=\"task2\"></a> <span style=\"font-size: 8pt;\"> [[TOC]](#toc)</span>\n",
    "\n",
    "\n",
    "**Task Description:**\n",
    "\n",
    "<i>\n",
    "Prompt the user and read in two money amounts (in cent)\n",
    "Add the two amounts\n",
    "Print out the answer in a human readable format with a euro sign and decimal point between the euro and cent of the amount. </i>\n",
    "\n",
    "```\n",
    "$ python bank.py\n",
    "Enter amount1(in cent): 65\n",
    "Enter amount2(in cent): 180\n",
    "The sum of these is €2.45\n",
    "```\n"
   ]
  },
  {
   "cell_type": "markdown",
   "id": "e58cb7d1",
   "metadata": {},
   "source": [
    "**Program Implementation:**"
   ]
  },
  {
   "cell_type": "code",
   "execution_count": 7,
   "id": "f58ebae0",
   "metadata": {},
   "outputs": [
    {
     "name": "stdout",
     "output_type": "stream",
     "text": [
      "Enter amount1(in cent): 123\n",
      "Enter amount2(in cent): 132\n"
     ]
    }
   ],
   "source": [
    "#Prompt the user for 2 inputs and store these as integers\n",
    "input1 = int(input(\"Enter amount1(in cent): \"))\n",
    "input2 = int(input(\"Enter amount2(in cent): \"))"
   ]
  },
  {
   "cell_type": "code",
   "execution_count": 8,
   "id": "14c4ca46",
   "metadata": {},
   "outputs": [
    {
     "name": "stdout",
     "output_type": "stream",
     "text": [
      "The sum of these is €2.55\n"
     ]
    }
   ],
   "source": [
    "# Add the 2 inputs \n",
    "total_cent = input1 + input2\n",
    "\n",
    "# Assign the total as a string.\n",
    "# This avoids introducing float types later and will allow string formatting to get the desired output format.\n",
    "# The last 2 characters will be the cent amount and everything before that is the euro amount.\n",
    "total_cent = str(total_cent)\n",
    "\n",
    "# However, if the total_cent amount is 10c or less, then leading zeroes are required to pad out the total amount string.\n",
    "# Find the required number of leading zeroes by checking the length of total_cent. \n",
    "# If total_cent is 3 characters or less (<10c) then leading zeroes are added to the start of total_cent. \n",
    "leading_zeroes = \"0\" * (3 - len(total_cent))\n",
    "# Append any leading zeroes to the total_cent amount\n",
    "total_cent = leading_zeroes + total_cent    \n",
    "\n",
    "# The string slice can then be applied to separate the euro and cent amounts [Ref 1].\n",
    "# The cent amount is the last 2 digits, everything up to the last 2 digits is the euro amount. \n",
    "# The amount is outputted to the screen in the required format.\n",
    "cent_amount = total_cent[-2:]\n",
    "euro_amount = total_cent[:-2]\n",
    "print(f\"The sum of these is €{euro_amount}.{cent_amount}\")"
   ]
  },
  {
   "cell_type": "markdown",
   "id": "bd061375",
   "metadata": {},
   "source": [
    "**Program Notes:**\n",
    "- The program will throw an error if anything other than an integer is entered.\n",
    "- As this task refers to banks handling currency amounts as integer types to avoid floating point errors, the assumption is made that float types are to be avoided. Therefore string manipulation is used to find the euro and cent amounts.\n",
    "- Alternatively, the // and % operands may be used to find euro and cent amounts (//100, %100), however, in the case of total cent amounts <10, % will return a cent amount that requires padding."
   ]
  },
  {
   "cell_type": "markdown",
   "id": "830c2ffe",
   "metadata": {},
   "source": [
    "**References:**\n",
    "1. String formatting https://www.w3schools.com/python/python_string_formatting.asp <a id=\"ref2.1\"></a> "
   ]
  },
  {
   "cell_type": "markdown",
   "id": "c7a31a91",
   "metadata": {},
   "source": [
    "- - - \n",
    "\n",
    "## Task 3 (accounts.py) <a id=\"task3\"></a> <span style=\"font-size: 8pt;\"> [[TOC]](#toc)</span>\n",
    "\n",
    "\n",
    "**Task Description:**\n",
    "\n",
    "<i>Bank account numbers can stored as 10 character strings, for security reasons some applications only display the last 4 characters (with the other other characters replaced with Xs).</i>\n",
    "\n",
    "```\n",
    "$ python accounts.py\n",
    "Please enter an 10 digit account number: 1234567890\n",
    "XXXXXX7890\n",
    "```"
   ]
  },
  {
   "cell_type": "markdown",
   "id": "c3e2d089",
   "metadata": {},
   "source": [
    "**Program Implementation:**"
   ]
  },
  {
   "cell_type": "code",
   "execution_count": 16,
   "id": "7f1023fb",
   "metadata": {},
   "outputs": [
    {
     "name": "stdout",
     "output_type": "stream",
     "text": [
      "Please enter a 10 digit account number: 1234567890\n"
     ]
    }
   ],
   "source": [
    "# Prompt the user for a 10 digit account number. This input is stored as a string variable\n",
    "user_input = input(\"Please enter a 10 digit account number: \")\n",
    "\n"
   ]
  },
  {
   "cell_type": "code",
   "execution_count": 17,
   "id": "2d5ecf75",
   "metadata": {},
   "outputs": [],
   "source": [
    "# Strip any whitespace from the start and the end of the string input.\n",
    "user_input = user_input.strip()\n",
    "\n",
    "# Find the length of the user inputted value\n",
    "input_string_length = len(user_input)\n",
    "\n",
    "# Isolate the last 4 characters of the inputted string with a string slice\n",
    "end_chars = user_input[-4:]\n",
    "\n",
    "# The outputted string consists of the last four digits right justified with the number_\n",
    "# padded with X with the overall length specified by length of user inputted string.\n",
    "output_string = end_chars.rjust(input_string_length, 'X')\n",
    "\n",
    "# Print the resulting output string to screen\n",
    "print(output_string)"
   ]
  },
  {
   "cell_type": "markdown",
   "id": "ec57394d",
   "metadata": {},
   "source": [
    "**Program Notes:**\n",
    "\n",
    "- The last four digits are right-justified and padded out before the last 4 digits by using .rjust() method [[Ref 1]](#ref3.1)\n",
    "- The input can be non-digit. \n",
    "- Any inputted number less than 4 digits will display just those digits inputted."
   ]
  },
  {
   "cell_type": "markdown",
   "id": "f510e20b",
   "metadata": {},
   "source": [
    "**References:**\n",
    "1. Padding a string: https://www.w3schools.com/python/ref_string_rjust.asp <a id=\"ref3.1\"></a> "
   ]
  },
  {
   "cell_type": "markdown",
   "id": "f7b952bd",
   "metadata": {},
   "source": [
    "- - - \n",
    "\n",
    "## Task 4 (collatz.py) <a id=\"task4\"></a> <span style=\"font-size: 8pt;\"> [[TOC]](#toc)</span>\n",
    "\n",
    "\n",
    "**Task Description:**\n",
    "\n",
    "<i>\n",
    " Write a program, called collatz.py, that asks the user to input any positive integer and outputs the successive values of the following calculation.\n",
    "\n",
    "At each step calculate the next value by taking the current value and, if it is even, divide it by two, but if it is odd, multiply it by three and add one.\n",
    "\n",
    "Have the program end if the current value is one.\n",
    "\n",
    "Push the program in your pands-problem-sheet GitHub repository (like you do for all the weekly tasks).\n",
    "\n",
    "Example of it running: </i> \n",
    "\n",
    "```\n",
    "$ python collatz.py\n",
    "\n",
    "Please enter a positive integer: 10\n",
    "\n",
    "10 5 16 8 4 2 1\n",
    "```"
   ]
  },
  {
   "cell_type": "markdown",
   "id": "6efa8f8c",
   "metadata": {},
   "source": [
    "**Program Implementation:**"
   ]
  },
  {
   "cell_type": "code",
   "execution_count": 20,
   "id": "ad454830",
   "metadata": {},
   "outputs": [
    {
     "name": "stdout",
     "output_type": "stream",
     "text": [
      "Please enter a positive integer: 123\n"
     ]
    }
   ],
   "source": [
    "# Define the variable user_list as the list for the calculated values\n",
    "user_list = []\n",
    "\n",
    "# Initialise the user_inp so that the loop to ask for user input will run\n",
    "user_inp = -1\n",
    "\n",
    "# Execute this loop until the user inputs a positive int\n",
    "while user_inp <= 0:\n",
    "    user_inp = int(input(\"Please enter a positive integer: \"))\n",
    "\n",
    "# Store the user input in the defined list\n",
    "user_list.append(user_inp)"
   ]
  },
  {
   "cell_type": "code",
   "execution_count": 21,
   "id": "72fb286f",
   "metadata": {},
   "outputs": [
    {
     "name": "stdout",
     "output_type": "stream",
     "text": [
      "123 370 185 556 278 139 418 209 628 314 157 472 236 118 59 178 89 268 134 67 202 101 304 152 76 38 19 58 29 88 44 22 11 34 17 52 26 13 40 20 10 5 16 8 4 2 1 \n"
     ]
    }
   ],
   "source": [
    "# This loop applies the Collatz rules [Ref 1] - it will loop while the calculated number is not equal to 1\n",
    "while user_inp != 1:\n",
    "    # Checks if the number is positive or negative and apply appropriate collatz\n",
    "    # Keeping integer types throughout to avoid formatting/decimal points later - \n",
    "    # The number will never have anything after the decimal so won't throw an error\n",
    "    if user_inp % 2 == 0:\n",
    "        user_inp = int(user_inp / 2)\n",
    "    else:\n",
    "        user_inp = int((user_inp * 3) + 1)      \n",
    "    # Appends the calculated value to the list    \n",
    "    user_list.append(user_inp)\n",
    "    \n",
    "# Print out the calculated values in the list in the required format on the same line \n",
    "# by looping over the values in the list. \n",
    "for item in user_list:\n",
    "    # The seperator for each instance of print is a space rather than the default newline [Ref 2]\n",
    "    print(item, end=\" \")\n",
    "\n",
    "# Print statement to go to next line after printing the last value\n",
    "print()"
   ]
  },
  {
   "cell_type": "markdown",
   "id": "cc53fbca",
   "metadata": {},
   "source": [
    "**Program Notes:**\n",
    "- The program applies the Collatz conjecture on any positive integer [[Ref 1]](#ref4.1)\n",
    "- The program will throw an error if a float type is entered. \n",
    "- The input message will repeat until a positive number is entered."
   ]
  },
  {
   "cell_type": "markdown",
   "id": "190dfdbe",
   "metadata": {},
   "source": [
    "**References:**\n",
    "1. The Collatz Conjecture https://www.youtube.com/watch?v=094y1Z2wpJg&t=1 <a id=\"ref4.1\"></a> \n",
    "2. Print on same line with spaces https://w3cschoool.com/tutorial/how-to-print-in-same-line-in-python"
   ]
  },
  {
   "cell_type": "markdown",
   "id": "a3cdfcdd",
   "metadata": {},
   "source": [
    "- - - \n",
    "\n",
    "## Task 5 (weekday.py) <a id=\"task5\"></a> <span style=\"font-size: 8pt;\"> [[TOC]](#toc)</span>\n",
    "\n",
    "\n",
    "**Task Description:**\n",
    "\n",
    "<i>\n",
    "Write a program that outputs whether or not today is a weekday. (The program should be called weekday.py)\n",
    "\n",
    "(You will need to search the web to find how you work out what day it is)\n",
    "\n",
    "An example of running this program on a Thursday is given below.</i> \n",
    "\n",
    "```\n",
    "$ python weekday.py\n",
    "Yes, unfortunately today is a weekday.\n",
    "\n",
    "\n",
    "An example of running it on a Saturday is as follows:\n",
    "\n",
    "$ python weekday.py\n",
    "It is the weekend, yay!\n",
    "\n",
    "```"
   ]
  },
  {
   "cell_type": "markdown",
   "id": "174e2298",
   "metadata": {},
   "source": [
    "**Program Implementation:**"
   ]
  },
  {
   "cell_type": "code",
   "execution_count": 5,
   "id": "a4e7062a",
   "metadata": {},
   "outputs": [
    {
     "name": "stdout",
     "output_type": "stream",
     "text": [
      "It is the weekend, yay!\n"
     ]
    }
   ],
   "source": [
    "# Import the datetime class from the datetime module [Ref 1,2]\n",
    "from datetime import datetime\n",
    "\n",
    "# Assign the current date and time to dt using the .now() method\n",
    "dt = datetime.now()\n",
    "\n",
    "# Use the weekday method to find day of week - returns an integer between 0 and 6 [Ref 1]\n",
    "x = dt.weekday()\n",
    "\n",
    "# checks value of x - prints to screen accordingly (Monday is 0 etc)\n",
    "if x == 5 or x == 6:\n",
    "    print(\"It is the weekend, yay!\")\n",
    "else:\n",
    "    print(\"Yes, unfortunately today is a weekday.\")"
   ]
  },
  {
   "cell_type": "markdown",
   "id": "97dd442c",
   "metadata": {},
   "source": [
    "**References:**\n",
    "1. Find day of the week: https://pynative.com/python-get-the-day-of-week\n",
    "2. Importing a class versus a module https://stackoverflow.com/questions/15707532/import-datetime-v-s-from-datetime-import-datetime"
   ]
  },
  {
   "cell_type": "markdown",
   "id": "edb326f6",
   "metadata": {},
   "source": [
    "- - - \n",
    "\n",
    "## Task 6 (squareroot.py) <a id=\"task6\"></a> <span style=\"font-size: 8pt;\"> [[TOC]](#toc)</span>\n",
    "\n",
    "\n",
    "**Task Description:**\n",
    "\n",
    "<i>\n",
    "Write a program that takes a positive floating-point number as input and outputs an approximation of its square root.\n",
    "\n",
    "You should create a function called <tt>sqrt</tt> that does this.\n",
    "\n",
    "I am asking you to create your own sqrt function and not to use the built in functions x ** .5 or math.sqrt(x).\n",
    "\n",
    "This is to demonstrate that you can research and code a process (If you really needed the square root you would use one of the above methods).\n",
    "\n",
    "I suggest that you look at the newton method at estimating square roots.\n",
    "\n",
    "This is a more difficult task than some of the others, but will be marked equally, so only do as much work on this as you feel comfortable.\n",
    "\n",
    "</i> \n",
    "\n",
    "```\n",
    "$ python squareroot.py\n",
    "Please enter a positive number: 14.5\n",
    "The square root of 14.5 is approx. 3.8.\n",
    "\n",
    "```"
   ]
  },
  {
   "cell_type": "markdown",
   "id": "0033fdaa",
   "metadata": {},
   "source": [
    "**Program Implementation:**"
   ]
  },
  {
   "cell_type": "code",
   "execution_count": 1,
   "id": "501b4d61",
   "metadata": {},
   "outputs": [],
   "source": [
    "# Function definition to calculate the root of a function f(x):x2-a\n",
    "# Inputs: the value from the command prompt (inputted_value) and a tolerance value (defaults to 0.0001)\n",
    "def sqrt(a, tolerance=0.0001):\n",
    "    \n",
    "    # The tolerance_check value which will be used\n",
    "    # to calculate the solution convergence needs to be initialised so it can \n",
    "    # be used in the loop to check against the required tolerance\n",
    "    tolerance_check = tolerance + 1   \n",
    "    \n",
    "    # Define an initial guess value, x0            \n",
    "    x0 = a / 2\n",
    "    \n",
    "    # The loop to iterate on the solution will run while the tolerance_check is greater than\n",
    "    # the required tolerance   \n",
    "    while abs(tolerance_check) > tolerance:\n",
    "        # Use Newton's method to find better approximation [Ref 1]\n",
    "        x1 = 0.5 * (x0 + (a / x0))      \n",
    "        # Calculate the convergence / error as the normalised difference between the x1 and x0\n",
    "        tolerance_check = (x1 - x0) / x0\n",
    "        # The initial value is assigned to the new value for the next iteration\n",
    "        x0 = x1\n",
    "    \n",
    "    # Function returns the calculated root    \n",
    "    return x1"
   ]
  },
  {
   "cell_type": "code",
   "execution_count": 2,
   "id": "7196b64c",
   "metadata": {},
   "outputs": [
    {
     "name": "stdout",
     "output_type": "stream",
     "text": [
      "Please enter a positive number: 132\n",
      "The square root of 132.0 is approx. 11.5.\n"
     ]
    }
   ],
   "source": [
    "# Take in the value to be calculated and assign as float type\n",
    "inputted_value = float(input(\"Please enter a positive number: \"))\n",
    "# Call the function, passing the inputted_value to it.\n",
    "sq_root = sqrt(inputted_value)\n",
    "\n",
    "# Print the answer to screen with required format (rounded to 1 decimal place).      \n",
    "print(f\"The square root of {inputted_value} is approx. {round(sq_root,1)}.\")    "
   ]
  },
  {
   "cell_type": "markdown",
   "id": "27a25ba4",
   "metadata": {},
   "source": [
    "**Program Notes:**\n",
    "- The program finds an approximation of a square root of a number (a) iteratively using Newton's method to approximate the root of the function $f(x):x^2-a$. This becomes: [[Ref 1]](#ref6.1)\n",
    "\n",
    "$$\n",
    "x_1 = \\frac{1}{2}( x_0 + \\frac{a}{x_0})\n",
    "$$\n",
    "\n",
    "\n",
    "where $x_0$ is an initial guess for the root and $x_1$ is a better approximation.\n",
    "\n",
    "- The method is implemented by iterating until a specified tolerance value is met. \n",
    "- The tolerance value may be passed as an input to the function but defaults to 0.0001 [[Ref 2]](#ref6.2).\n",
    "- The solution convergence is calculated by calculating the normalised difference between successive solutions [[Ref 1]](#ref6.1). "
   ]
  },
  {
   "cell_type": "markdown",
   "id": "a8d1be9b",
   "metadata": {},
   "source": [
    "**References:**\n",
    "1. Newton's method of finding the square root of a number: https://math.mit.edu/~stevenj/18.335/newton-sqrt.pdf <a id=\"ref6.1\"></a> \n",
    "2. Passing a default argument to a function: https://www.w3schools.com/python/python_functions.asp <a id=\"ref6.2\"></a> "
   ]
  },
  {
   "cell_type": "markdown",
   "id": "9b784fe0",
   "metadata": {},
   "source": [
    "- - - \n",
    "\n",
    "## Task 7 (es.py) <a id=\"task7\"></a> <span style=\"font-size: 8pt;\"> [[TOC]](#toc)</span>\n",
    "\n",
    "\n",
    "**Task Description:**\n",
    "\n",
    "<i>\n",
    "Write a program that reads in a text file and outputs the number of e's it contains. Think about what is being asked here, document any assumptions you are making.\n",
    "\n",
    "The program should take the filename from an **argument** on the command line. I have not shown you how to do this, you need to look it up.\n",
    "\n",
    "</i> \n",
    "\n",
    "```\n",
    "$ python es.py moby-dick.txt\n",
    "116960\n",
    "\n",
    "```"
   ]
  },
  {
   "cell_type": "markdown",
   "id": "603630bc",
   "metadata": {},
   "source": [
    "**Program Implementation:**"
   ]
  },
  {
   "cell_type": "code",
   "execution_count": null,
   "id": "0e023b67",
   "metadata": {},
   "outputs": [],
   "source": [
    "# Import the sys module which will allow arguments to passed via the command line [Ref 1]\n",
    "import sys\n",
    "\n",
    "#  Take the filename from the command line using the .argv method [Ref 1]. The filename is the second item so is denoted [1]\n",
    "FILENAME = sys.argv[1]\n",
    "\n",
    "# Define the character to search for\n",
    "search_char = \"e\"\n",
    "# Initialise the counter for the characters\n",
    "char_count = 0\n",
    "\n",
    "# Open the file and ignore any errors thrown by unknown characters\n",
    "# Avoids issues when reading non utf-8 encoded files [Ref 2,3].\n",
    "# With open method to open the file as a textfile in read mode\n",
    "with open(FILENAME, 'rt', errors='ignore') as f:\n",
    "# Reading the file line by line to avoid errors with very large files\n",
    "    for line in f:\n",
    "       # Convert the line to all lower case (.lower()) before counting 'e' so that the count isn't case-sensitive [Ref.2]       \n",
    "       char_count = line.lower().count(search_char) + char_count\n",
    "\n",
    "# print the number of 'e's\n",
    "print(char_count)\n"
   ]
  },
  {
   "cell_type": "markdown",
   "id": "72a681a9",
   "metadata": {},
   "source": [
    "**Program Notes:**\n",
    "- The program is run from the command line by typing: \n",
    "```\n",
    "$ python es.py filename.txt\n",
    "```\n",
    "- Some problems were encountered with reading non utf-8 encoded text files so the optional argument \"errors\" in the open method is set to \"ignore\". [[Ref 3]](#ref7.3)[[Ref 4]](#ref7.4).\n",
    "- The assumptions is made that the task requires all instances of e in the file to be counted (lower and upper case) so the program counts the instances of \"E\" and \"e\" by converting each line to all lower-case and then counting the instances of \"e\" [[Ref 2]](#ref7.2)\n",
    "- Sample output when the program is run:\n",
    "```\n",
    "$python es.py war_and_peace.txt\n",
    "313609\n",
    "```"
   ]
  },
  {
   "cell_type": "markdown",
   "id": "577a6945",
   "metadata": {},
   "source": [
    "**References:**\n",
    "\n",
    "1. Command line arguments: https://www.digitalocean.com/community/tutorials/python-command-line-arguments <a id=\"ref7.1\"></a> \n",
    "2. Counting occurances: https://stackoverflow.com/questions/1155617/count-the-number-of-occurrences-of-a-character-in-a-string <a id=\"ref7.2\"></a> \n",
    "3. Errors when reading files: https://stackoverflow.com/questions/9233027/unicodedecodeerror-charmap-codec-cant-decode-byte-x-in-position-y-character <a id=\"ref7.3\"></a> \n",
    "4. Encoding differences: https://stackoverflow.com/questions/26324622/what-characters-do-not-directly-map-from-cp1252-to-utf-8 <a id=\"ref7.4\"></a> \n",
    "5. Example text files :  https://github.com/laumann/ds/tree/master/hashing/books <a id=\"ref7.5\"></a> \n"
   ]
  },
  {
   "cell_type": "markdown",
   "id": "1f663a90",
   "metadata": {},
   "source": [
    "- - - \n",
    "\n",
    "## Task 8 (plottask.py) <a id=\"task8\"></a> <span style=\"font-size: 8pt;\"> [[TOC]](#toc)</span>\n",
    "\n",
    "\n",
    "**Task Description:**\n",
    "\n",
    "<i>\n",
    "Write a program called plottask.py that displays:\n",
    "\n",
    "a histogram of a normal distribution of a 1000 values with a mean of 5 and standard deviation of 2, \n",
    "and a plot of the function  h(x)=x3 in the range [0, 10], \n",
    "on the one set of axes.\n",
    "Some marks will be given for making the plot look nice (legend etc).\n",
    "\n",
    "</i> \n"
   ]
  },
  {
   "cell_type": "markdown",
   "id": "d193e0e4",
   "metadata": {},
   "source": [
    "**Program Implementation:**"
   ]
  },
  {
   "cell_type": "code",
   "execution_count": 53,
   "id": "6e1db0d0",
   "metadata": {},
   "outputs": [
    {
     "data": {
      "image/png": "[encoded data removed]",
      "text/plain": [
       "<Figure size 640x480 with 1 Axes>"
      ]
     },
     "metadata": {},
     "output_type": "display_data"
    }
   ],
   "source": [
    "# Import the modules - numpy for arrays\n",
    "# Matplotlib.pyplot for the plots\n",
    "# Math for some operations\n",
    "# Matplotlib.ticker for some tick mark formatting\n",
    "import numpy as np\n",
    "import matplotlib.pyplot as plt\n",
    "import math\n",
    "\n",
    "# See ref [6] - for setting the ticks on the x and y axis\n",
    "from matplotlib.ticker import (MultipleLocator, AutoMinorLocator)\n",
    "\n",
    "# Set a range object to be a seeded random generator (for repeatability)\n",
    "rng = np.random.default_rng(3)\n",
    "\n",
    "# Set the parameters for the normal dist data generation\n",
    "mean = 5\n",
    "stdev = 2\n",
    "pop_size = 1000\n",
    "# Set the bin_size for the histogram\n",
    "bin_size = 0.5\n",
    "\n",
    "# Set the parameters for the function definition \n",
    "# assuming here that up to and including x=10 is required to be plotted (see below)\n",
    "x_lower_range = 0\n",
    "x_upper_range = 10\n",
    "# Pick a major and minor y-axis tick mark to suit the data \n",
    "y_major_tick = 50\n",
    "y_minor_tick = 10\n",
    "x_major_tick = 1\n",
    "x_minor_tick = 0.5\n",
    "# set the y-axis upper bound\n",
    "yaxis_upper_bound = 150\n",
    "\n",
    "# Generate a numpy array or normally distributed data [Ref 1]\n",
    "random_data = rng.normal(loc=mean, scale=stdev, size=pop_size)\n",
    "\n",
    "# Find the lower and upper bounds of the random data to set the bins for \n",
    "# the histogram applying .floor and .ceil to the min and max of the data. [Ref 4]\n",
    "random_data_floor = math.floor(random_data.min())\n",
    "random_data_ceiling = math.ceil(random_data.max())\n",
    "\n",
    "# Define the array of bins using the min and max data - \n",
    "# Add 1 bin_size to the upper to capture the upper bound of the data\n",
    "# Bin width is set above [Ref 7][Ref 3]\n",
    "bins = np.arange(random_data_floor, random_data_ceiling + bin_size, bin_size)\n",
    "\n",
    "# Define a numpy array with lower and upper bounds\n",
    "# Assuming the brief is asking for data up to and including 10 so adding 1\n",
    "# picking a step of 0.1 to get a good discretisation at low x values [Ref 7]\n",
    "x = np.arange(x_lower_range, x_upper_range + 1, 0.1)\n",
    "\n",
    "# Define the function y as x cubed\n",
    "y = x**3\n",
    "\n",
    "# Return the fig and ax objects so that the axes ticks can be set [Ref 6]\n",
    "fig, ax = plt.subplots()\n",
    "\n",
    "# Plot the histogram, setting the bins equal to the range created\n",
    "# n is the tuple that is returned containing the values of the bins and bins themselves\n",
    "n = plt.hist(random_data, label=\"Normal Dist\", bins=bins)\n",
    "\n",
    "# find the max value of the histogram bins\n",
    "hist_max_y = n[0].max()\n",
    "\n",
    "# dynamic y-axis limit (not used this time)\n",
    "#plot_yaxis_max = (hist_max_y + y_major_tick) // y_major_tick\n",
    "#plot_yaxis_max = plot_yaxis_max * y_major_tick\n",
    "\n",
    "# Set the axes upper and lower bounds\n",
    "plt.axis([random_data_floor, random_data_ceiling, 0, yaxis_upper_bound])\n",
    "\n",
    "# Plot the function y=x^3 [Ref 2]\n",
    "plt.plot(x, y, color='red', label='y=x^3')\n",
    "\n",
    "# apply the x and y labels\n",
    "plt.xlabel(\"X\")\n",
    "plt.ylabel(\"Frequency / y^3\")\n",
    "plt.grid(which='major', linestyle='-', linewidth=0.6)\n",
    "plt.grid(which='minor', linestyle='-.', linewidth=0.4)\n",
    "\n",
    "# Set the major and minor tick spacing [Ref X]\n",
    "ax.xaxis.set_major_locator(MultipleLocator(x_major_tick))\n",
    "ax.xaxis.set_minor_locator(MultipleLocator(x_minor_tick))\n",
    "ax.yaxis.set_major_locator(MultipleLocator(y_major_tick))\n",
    "ax.yaxis.set_minor_locator(MultipleLocator(y_minor_tick))\n",
    "\n",
    "# Format the length of the axes ticks \n",
    "ax.tick_params(which='major', length=8)\n",
    "ax.tick_params(which='minor', length=4)\n",
    "\n",
    "# Set the title of the plot\n",
    "plt.title(\"Normal Distribution np.random.default_rng(3) / y=x^3\")\n",
    "\n",
    "# Display the legend\n",
    "plt.legend()\n",
    "\n",
    "# Show the plot\n",
    "plt.show()\n"
   ]
  },
  {
   "cell_type": "markdown",
   "id": "d27037eb",
   "metadata": {},
   "source": [
    "**Program Notes:**\n",
    "1. Given the disparity between the upper bounds of the 2 sets of data (when a suitable bin size is picked to display the histogram) and the fact that the function is deterministic, the data is better displayed with a y-axis upper bound lower than the auto value. The upper bound value  for the y-axis can be easily changed in the program where the parameters are set.\n",
    "```\n",
    "yaxis_upper_bound = 150\n",
    "```\n",
    "2. \n"
   ]
  },
  {
   "cell_type": "markdown",
   "id": "09235de8",
   "metadata": {},
   "source": [
    "**References:**\n",
    "\n",
    "1. Numpy random generator: https://numpy.org/doc/stable/reference/random/index.html#random-quick-start <a id=\"ref8.1\"></a> \n",
    "2. Pyplot methods: https://matplotlib.org/3.1.1/api/pyplot_summary.html <a id=\"ref8.2\"></a> \n",
    "3. Pyplot histogram arguments and return: https://matplotlib.org/3.5.3/api/_as_gen/matplotlib.pyplot.hist.html <a id=\"ref8.3\"></a> \n",
    "4. Getting floor and ceiling: https://www.geeksforgeeks.org/floor-ceil-function-python/ <a id=\"ref8.4\"></a> \n",
    "5. Gridlines: https://matplotlib.org/stable/api/_as_gen/matplotlib.pyplot.grid.html <a id=\"ref8.5\"></a> \n",
    "6. Major and minor ticks: https://matplotlib.org/3.4.3/gallery/ticks_and_spines/major_minor_demo.html <a id=\"ref8.6\"></a> \n",
    "7. Numpy range generation: https://numpy.org/doc/stable/reference/generated/numpy.arange.html <a id=\"ref8.7\"></a> "
   ]
  }
 ],
 "metadata": {
  "kernelspec": {
   "display_name": "Python 3 (ipykernel)",
   "language": "python",
   "name": "python3"
  },
  "language_info": {
   "codemirror_mode": {
    "name": "ipython",
    "version": 3
   },
   "file_extension": ".py",
   "mimetype": "text/x-python",
   "name": "python",
   "nbconvert_exporter": "python",
   "pygments_lexer": "ipython3",
   "version": "3.9.12"
  }
 },
 "nbformat": 4,
 "nbformat_minor": 5
}
