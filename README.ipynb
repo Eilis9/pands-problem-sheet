{
 "cells": [
  {
   "cell_type": "markdown",
   "id": "3989dba3",
   "metadata": {},
   "source": [
    "<h1><img align=\"right\" width=\"350\" src=\"img/ATU-Logo-Full-RGB-Green.jpg\"> Assessments for Programming and Scripting \n",
    "</h1>\n",
    "<p> \n",
    "Course: HDip in Computing in Data Analytics <br>\n",
    "Module: Programming and Scripting <br>\n",
    "Lecturer: Andrew Beatty\n",
    "    \n",
    "Student: Eilis Donohue (G00006088)\n",
    "\n",
    "A repository for the solutions to the problem sheets given in the Programming and Scripting Module of the HDip in Data Analytics beginning January 2023.\n",
    "\n",
    "Software Used: \n",
    " - Python v3.7 and higher  \n",
    " - Jupyter Notebook 6.4.12 \n",
    "</p>\n",
    "\n",
    " - - -"
   ]
  },
  {
   "cell_type": "markdown",
   "id": "9ef2eef0",
   "metadata": {},
   "source": [
    "## Table of Contents: <a id=\"toc\"></a> \n",
    "1. [Task 1 (helloworld.py)](#task1)\n",
    "2. [Task 2 (bank.py)](#task2)\n",
    "3. [Task 3 (accounts.py)](#task3)\n",
    "4. [Task 4 (collatz.py)](#task4)\n",
    "5. [Task 5 (weekday.py)](#task5)\n",
    "5. [Task 6 (squareroot.py)](#task6)\n",
    "5. [Task 7 (es.py)](#task7)\n",
    "6. [Task 8 (XXXX)](#task8)"
   ]
  },
  {
   "cell_type": "markdown",
   "id": "a67a0a7e",
   "metadata": {},
   "source": [
    " - - -\n",
    "\n",
    "## Task 1 (helloworld.py) <a id=\"task1\"></a> <span style=\"font-size: 8pt;\"> [[TOC]](#toc)</span>\n",
    "\n",
    "Task Description:\n",
    "\n",
    "<i> This file should contain a python program that displays Hello World! when it is run. </i>\n",
    "\n",
    "Program Description:\n",
    " - Print statement to print **Hello World!**"
   ]
  },
  {
   "cell_type": "code",
   "execution_count": 11,
   "id": "926f4300",
   "metadata": {},
   "outputs": [
    {
     "name": "stdout",
     "output_type": "stream",
     "text": [
      "Hello World!\n"
     ]
    }
   ],
   "source": [
    "print(\"Hello World!\")"
   ]
  },
  {
   "cell_type": "markdown",
   "id": "1c034464",
   "metadata": {},
   "source": [
    "- - - \n",
    "\n",
    "## Task 2 (bank.py) <a id=\"task2\"></a> <span style=\"font-size: 8pt;\"> [[TOC]](#toc)</span>\n",
    "\n",
    "\n",
    "**Task Description:**\n",
    "\n",
    "<i>\n",
    "Prompt the user and read in two money amounts (in cent)\n",
    "Add the two amounts\n",
    "Print out the answer in a human readable format with a euro sign and decimal point between the euro and cent of the amount. </i>\n",
    "\n",
    "```\n",
    "$ python bank.py\n",
    "Enter amount1(in cent): 65\n",
    "Enter amount2(in cent): 180\n",
    "The sum of these is €2.45\n",
    "```\n"
   ]
  },
  {
   "cell_type": "markdown",
   "id": "03e2abed",
   "metadata": {},
   "source": [
    "**Program Implementation:**"
   ]
  },
  {
   "cell_type": "code",
   "execution_count": 12,
   "id": "f58ebae0",
   "metadata": {},
   "outputs": [
    {
     "name": "stdout",
     "output_type": "stream",
     "text": [
      "Enter amount1(in cent): 1\n",
      "Enter amount2(in cent): 1\n"
     ]
    }
   ],
   "source": [
    "#Prompt the user for 2 inputs and store these as integers\n",
    "input1 = int(input(\"Enter amount1(in cent): \"))\n",
    "input2 = int(input(\"Enter amount2(in cent): \"))"
   ]
  },
  {
   "cell_type": "code",
   "execution_count": 13,
   "id": "14c4ca46",
   "metadata": {},
   "outputs": [],
   "source": [
    "# Add the 2 inputs \n",
    "total_cent = input1 + input2\n",
    "\n",
    "# Assign the total as a string.\n",
    "# This avoids introducing float types later and will allow string formatting to get the desired output format.\n",
    "# The last 2 characters will be the cent amount and everything before that is the euro amount.\n",
    "total_cent = str(total_cent)"
   ]
  },
  {
   "cell_type": "code",
   "execution_count": 14,
   "id": "96af805a",
   "metadata": {},
   "outputs": [],
   "source": [
    "# However, if the total_cent amount is 10c or less, then leading zeroes are required to pad out the total amount string.\n",
    "# Assign these by checking the length of total cent. \n",
    "# If total_cent is 3 characters or less (<10c) then leading zeroes are added to the start of total_cent. \n",
    "leading_zeroes = \"0\" * (3 - len(total_cent))\n",
    "total_cent = leading_zeroes + total_cent    "
   ]
  },
  {
   "cell_type": "markdown",
   "id": "bede9f36",
   "metadata": {},
   "source": [
    "- The string slices are applied (the last two digits being cents) [[Ref 1]](#ref2.1)\n",
    "- Everything up to the last 2 digits is euro.\n",
    "- The amount is outputted to screen in the required format."
   ]
  },
  {
   "cell_type": "code",
   "execution_count": 15,
   "id": "bf44f9d2",
   "metadata": {},
   "outputs": [
    {
     "name": "stdout",
     "output_type": "stream",
     "text": [
      "The sum of these is €0.02\n"
     ]
    }
   ],
   "source": [
    "# The string slice can then be applied to separate the euro and cent amounts.\n",
    "cent_amount = total_cent[-2:]\n",
    "euro_amount = total_cent[:-2]\n",
    "print(f\"The sum of these is €{euro_amount}.{cent_amount}\")"
   ]
  },
  {
   "cell_type": "markdown",
   "id": "19e2cf02",
   "metadata": {},
   "source": [
    "**References:**\n",
    "1. String formatting https://www.w3schools.com/python/python_string_formatting.asp <a id=\"ref2.1\"></a> "
   ]
  },
  {
   "cell_type": "markdown",
   "id": "cc8e12b8",
   "metadata": {},
   "source": [
    "- - - \n",
    "\n",
    "## Task 3 (accounts.py) <a id=\"task3\"></a> <span style=\"font-size: 8pt;\"> [[TOC]](#toc)</span>\n",
    "\n",
    "\n",
    "**Task Description:**\n",
    "\n",
    "<i>Bank account numbers can stored as 10 character strings, for security reasons some applications only display the last 4 characters (with the other other characters replaced with Xs).</i>\n",
    "\n",
    "```\n",
    "$ python accounts.py\n",
    "Please enter an 10 digit account number: 1234567890\n",
    "XXXXXX7890\n",
    "```"
   ]
  },
  {
   "cell_type": "markdown",
   "id": "f78dcfb3",
   "metadata": {},
   "source": [
    "**Program Implementation:**"
   ]
  },
  {
   "cell_type": "code",
   "execution_count": 16,
   "id": "8a550e3e",
   "metadata": {},
   "outputs": [
    {
     "name": "stdout",
     "output_type": "stream",
     "text": [
      "Please enter a 10 digit account number: 1234567890\n"
     ]
    }
   ],
   "source": [
    "# Prompt the user for a 10 digit account number. This input is stored as a string variable\n",
    "user_input = input(\"Please enter a 10 digit account number: \")\n",
    "\n",
    "# Strip any whitespace from the start and the end of the string input.\n",
    "user_input = user_input.strip()"
   ]
  },
  {
   "cell_type": "code",
   "execution_count": 17,
   "id": "8fccf20c",
   "metadata": {},
   "outputs": [],
   "source": [
    "# Find the length of the user inputted value\n",
    "input_string_length = len(user_input)\n",
    "\n",
    "# Isolate the last 4 characters of the inputted string with a string slice\n",
    "end_chars = user_input[-4:]"
   ]
  },
  {
   "cell_type": "code",
   "execution_count": 18,
   "id": "ca1f53ce",
   "metadata": {},
   "outputs": [
    {
     "name": "stdout",
     "output_type": "stream",
     "text": [
      "XXXXXX7890\n"
     ]
    }
   ],
   "source": [
    "# The outputted string consists of the last four digits right justified with the number_\n",
    "# of padded zeroes before it specified based on the length of the user inputted string.\n",
    "output_string = end_chars.rjust(input_string_length, 'X')\n",
    "\n",
    "# Print the resulting output string to screen\n",
    "print(output_string)"
   ]
  },
  {
   "cell_type": "markdown",
   "id": "3ba8be4e",
   "metadata": {},
   "source": [
    "**Program Notes:**\n",
    "\n",
    "- The string is padded out before the last 4 digits by using .rjust() method [[Ref 1]](#ref3.1)\n",
    "- No error checking is performed for non digit characters in the input.\n",
    "- Any inputted number less than 4 digits will just display those digits inputted."
   ]
  },
  {
   "cell_type": "markdown",
   "id": "53186041",
   "metadata": {},
   "source": [
    "**References:**\n",
    "1. Padding a string: https://www.w3schools.com/python/ref_string_rjust.asp <a id=\"ref3.1\"></a> "
   ]
  },
  {
   "cell_type": "code",
   "execution_count": null,
   "id": "70e43560",
   "metadata": {},
   "outputs": [],
   "source": []
  }
 ],
 "metadata": {
  "kernelspec": {
   "display_name": "Python 3 (ipykernel)",
   "language": "python",
   "name": "python3"
  },
  "language_info": {
   "codemirror_mode": {
    "name": "ipython",
    "version": 3
   },
   "file_extension": ".py",
   "mimetype": "text/x-python",
   "name": "python",
   "nbconvert_exporter": "python",
   "pygments_lexer": "ipython3",
   "version": "3.9.12"
  }
 },
 "nbformat": 4,
 "nbformat_minor": 5
}
