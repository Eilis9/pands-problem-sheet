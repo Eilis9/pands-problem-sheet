{
 "cells": [
  {
   "cell_type": "markdown",
   "id": "3989dba3",
   "metadata": {},
   "source": [
    "<h1><img align=\"right\" width=\"350\" src=\"img/ATU-Logo-Full-RGB-Green.jpg\"> Assessments for Programming and Scripting \n",
    "</h1>\n",
    "<p> \n",
    "Course: HDip in Computing in Data Analytics <br>\n",
    "Module: Programming and Scripting <br>\n",
    "Lecturer: Andrew Beatty\n",
    "    \n",
    "Student: Eilis Donohue (G00006088)\n",
    "\n",
    "A repository for the solutions to the problem sheets given in the Programming and Scripting Module of the HDip in Data Analytics beginning January 2023.\n",
    "\n",
    "Software Used: Python v3.7 and higher  \n",
    "</p>\n",
    "\n",
    " - - -"
   ]
  },
  {
   "cell_type": "markdown",
   "id": "9ef2eef0",
   "metadata": {},
   "source": [
    "## Table of Contents:\n",
    "1. [Task 1 (helloworld.py)](#task1)\n",
    "2. [Task 2 (bank.py)](#task2)\n",
    "3. [Task 3 (accounts.py)](#task3)\n",
    "4. [Task 4 (collatz.py)](#task4)\n",
    "5. [Task 5 (weekday.py)](#task5)\n",
    "5. [Task 6 (squareroot.py)](#task6)\n",
    "5. [Task 7 (es.py)](#task7)\n",
    "6. [Task 8 (XXXX)](#task8)"
   ]
  },
  {
   "cell_type": "markdown",
   "id": "a67a0a7e",
   "metadata": {},
   "source": [
    " - - -\n",
    "## Task 1 - helloworld.py <a id=\"task1\"></a> \n",
    "Task Description:\n",
    "\n",
    "<i> This file should contain a python program that displays Hello World! when it is run. </i>\n",
    "\n",
    "Program Description:\n",
    " - Print statement to print **Hello World!**"
   ]
  },
  {
   "cell_type": "code",
   "execution_count": 10,
   "id": "926f4300",
   "metadata": {},
   "outputs": [
    {
     "name": "stdout",
     "output_type": "stream",
     "text": [
      "Hello World!\n"
     ]
    }
   ],
   "source": [
    "print(\"Hello World!\")"
   ]
  },
  {
   "cell_type": "markdown",
   "id": "1c034464",
   "metadata": {},
   "source": [
    "- - - \n",
    "\n",
    "## Task 2 (bank.py) <a id=\"task2\"></a>\n",
    "\n",
    "\n",
    "Task Description:\n",
    "\n",
    "<i>\n",
    "Prompt the user and read in two money amounts (in cent)\n",
    "Add the two amounts\n",
    "Print out the answer in a human readable format with a euro sign and decimal point between the euro and cent of the amount. </i>\n",
    "\n",
    "```\n",
    "$ python bank.py\n",
    "Enter amount1(in cent): 65\n",
    "Enter amount2(in cent): 180\n",
    "The sum of these is €2.45\n",
    "```\n"
   ]
  },
  {
   "cell_type": "code",
   "execution_count": 18,
   "id": "f58ebae0",
   "metadata": {},
   "outputs": [
    {
     "name": "stdout",
     "output_type": "stream",
     "text": [
      "enter something123\n"
     ]
    }
   ],
   "source": [
    "a = int(input(\"enter something \"))"
   ]
  },
  {
   "cell_type": "code",
   "execution_count": 19,
   "id": "14c4ca46",
   "metadata": {},
   "outputs": [
    {
     "name": "stdout",
     "output_type": "stream",
     "text": [
      "124\n"
     ]
    }
   ],
   "source": [
    "a = a+1\n",
    "print(a)"
   ]
  },
  {
   "cell_type": "code",
   "execution_count": null,
   "id": "96af805a",
   "metadata": {},
   "outputs": [],
   "source": []
  },
  {
   "cell_type": "code",
   "execution_count": null,
   "id": "bf44f9d2",
   "metadata": {},
   "outputs": [],
   "source": []
  }
 ],
 "metadata": {
  "kernelspec": {
   "display_name": "Python 3 (ipykernel)",
   "language": "python",
   "name": "python3"
  },
  "language_info": {
   "codemirror_mode": {
    "name": "ipython",
    "version": 3
   },
   "file_extension": ".py",
   "mimetype": "text/x-python",
   "name": "python",
   "nbconvert_exporter": "python",
   "pygments_lexer": "ipython3",
   "version": "3.9.12"
  }
 },
 "nbformat": 4,
 "nbformat_minor": 5
}
